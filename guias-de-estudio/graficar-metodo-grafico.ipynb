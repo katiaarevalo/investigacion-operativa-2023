{
 "cells": [
  {
   "cell_type": "markdown",
   "metadata": {},
   "source": [
    "<h2>  Graficando <strong>\"Método Gráfico\"</strong> en Python  </h2>\n",
    "<p>   Documentación de los pasos necesarios con el proposito de tener una manual que pueda utilizar de referencia, <br> guia y recordatorio sobre lo necesario para realizar con exito un <strong> ejercicio mediante python del Método Gráfico. </strong> </p>\n",
    "  "
   ]
  },
  {
   "cell_type": "markdown",
   "metadata": {},
   "source": [
    "<h3> <strong> Paso 1 — </strong> Establecer las librerias que son necesarias </h3>\n",
    "\n",
    "<p> Para poder realizar correctamente el ejercicio primero debemos empezar por preparar donde trabajaremos con las respectivas biblitecas. <br> Nos encontramos con las siguientes bibliotecas a utilizar para realizar las operaciones pertinentes: </p> \n",
    "<p>— <strong> numpy: </strong> Se relaciona a los cálculos numericos y da soporte para crear vectores y matrices. <br> —<strong> matplotlib.pyplot: </strong> Se relaciona con la creación de gráficos. <br> —<strong> scipy.optimize: </strong> Se relaciona con proporcionar algoritmos útiles para la minimización/maximización de funciones.</p>\n"
   ]
  },
  {
   "cell_type": "code",
   "execution_count": 1,
   "metadata": {},
   "outputs": [],
   "source": [
    "import numpy as np                      # Se importa la biblioteca y se renombra. \n",
    "import matplotlib.pyplot as plt         # Se importa la biblioteca y se renombra. \n",
    "from scipy.optimize import linprog      # Permitiendo que se utilice la función linprog para resolver problemas de programación lineal."
   ]
  },
  {
   "cell_type": "markdown",
   "metadata": {},
   "source": [
    "<h3> <strong> Paso 2 — </strong> Identificar función objetivo, restricciones y otros </h3>\n",
    "<p> Es importante poder identificar toda la información necesaria para este paso, <br> se recomienda identidicar la función objetivo del problema así como las restricciones que tiene este. <p>\n",
    "<p> En este caso tenemos la siguiente función objetivo y las restricciones: <br> —<strong> Función objetivo: </strong> Z = -5x1 -4x2  <br>  —<strong> Restricciones: </strong> <ul> <li> 6x1 + 4x2 <= 24 <li> x1 + 2x2 <= 6 <li> -x1 + x2 <=1 <li> 0x1 + x2 <= 2 </ul> </p>\n",
    "\n",
    "<p> <b> <i>¡ Atención con lo siguiente ! </i> </b> <br> La función de linprog solo admite las restricciones del tipo <= (menor o igual), por tanto, si tengo una restricción diferente debo multiplicarla por -1 y utilizarla de esa manera.  </p>\n"
   ]
  },
  {
   "cell_type": "code",
   "execution_count": 2,
   "metadata": {},
   "outputs": [],
   "source": [
    "coef_objetivo = np.array([-5.0, -4.0]) # Coeficientes de la funcion objetivo \n",
    "matriz_coef = np.array([[6,4],[1,2],[-1,1],[0,1]]) # coeficientes de la matriz de inequalities\n",
    "matriz_r = np.array([24, 6, 1, 2]) # coeficientes libres"
   ]
  },
  {
   "cell_type": "markdown",
   "metadata": {},
   "source": [
    "<h3> <strong> Paso 3 — </strong> Resolver el problema de programación lineal </h3>\n",
    "<p> Una vez que tenemos identificado todo lo necesario procedemos a resolver, <br> para esto es que tenemos que escribir lo siguiente con sus respecticas consideraciones. <p>\n",
    "\n",
    "<p> <i> <b> Detalles: </b> </i> <br> — <b> linprog: </b> Es la función de la biblioteca SciPy, resuelve problemas de programación lineal. <br> — <b> method=\"revised simplex\" </b> Especifica eñ método que se utilizará, en este caso se utiliza el meotodo \"revised simplex\" (que sirve para problemas de programación lineal)."
   ]
  },
  {
   "cell_type": "code",
   "execution_count": 4,
   "metadata": {},
   "outputs": [
    {
     "name": "stdout",
     "output_type": "stream",
     "text": [
      " message: Optimization terminated successfully.\n",
      " success: True\n",
      "  status: 0\n",
      "     fun: -21.0\n",
      "       x: [ 3.000e+00  1.500e+00]\n",
      "     nit: 2\n"
     ]
    },
    {
     "name": "stderr",
     "output_type": "stream",
     "text": [
      "C:\\Users\\katia\\AppData\\Local\\Temp\\ipykernel_7504\\3388140652.py:1: DeprecationWarning: `method='revised simplex'` is deprecated and will be removed in SciPy 1.11.0. Please use one of the HiGHS solvers (e.g. `method='highs'`) in new code.\n",
      "  res = linprog(coef_objetivo, matriz_coef, matriz_r, method=\"revised simplex\")\n"
     ]
    }
   ],
   "source": [
    "solucion = linprog(coef_objetivo, matriz_coef, matriz_r, method=\"revised simplex\") #resolvemos el problema de programación lineal.\n",
    "print(solucion)  # mostramos la estrucutra OptimizedResult"
   ]
  },
  {
   "cell_type": "markdown",
   "metadata": {},
   "source": [
    "<p> <i> <b> Interprestación de estructura OptimizedResult </b> </i> <br> — <b> message: </b> Este mensaje indica si la optimización se completó con éxito.  <br> — <b> success: </b> Confirma si la optimización fue exitosa. Si no hay solución entonces imprime <b>False</b>. <br> — <b> status: </b> Un 0 indica que la optimización se completó sin problemas. <br> — <b> fun: </b> Contiene el valor óptimo de la función objetivo. <br> — <b> x: </b> Contiene los valores óptimos de las variables de decisión. En este caso x1 = 3 y x2 = 1.5. <br> — <b> nit: </b> numero de iteraciones que hizo el algoritmo para llegar a la solución óptima. </p>\n",
    "\n"
   ]
  },
  {
   "cell_type": "markdown",
   "metadata": {},
   "source": [
    "<h3> <strong> Paso 4 — </strong> Realizar el gráfico </h3>\n",
    "<p> Ahora debemos realizar la graficación para el método gráfico, ya tenemos todos los datos necesarios para ello. <p>"
   ]
  },
  {
   "cell_type": "code",
   "execution_count": null,
   "metadata": {},
   "outputs": [],
   "source": [
    "def grafico(coef_objetivo, matriz_coef, matriz_r, limites, zz):\n",
    "    N = matriz_coef.shape[0]\n",
    "    print(\"Numero de Desigualdades(Restricciones): \", N)\n",
    "    plt.figure()\n",
    "    plt.title(\"Cost:  z = \"+ \" + \".join([str(x)+\" x\"+str(i+1) for i,x in enumerate(coef_objetivo)]))\n",
    "    X = np.linspace(0,15)\n",
    "\n",
    "    for i in range(0,N):\n",
    "        c_txt = \" + \".join([str(x)+\" x\"+str(i+1) for i,x in enumerate(matriz_coef[i,:])]) + \" <= \" + str(matriz_r[i])\n",
    "        plt.plot(X, -X*(matriz_coef[i,0]/matriz_coef[i,1]) + matriz_r[i]/matriz_coef[i,1] ,label = c_txt ) \n",
    "\n",
    "    for j in range(zz[0],zz[1], zz[2]):\n",
    "        c_txt = \"z = \" + str(j)\n",
    "        plt.plot(X, -X*(coef_objetivo[0]/coef_objetivo[1]) + (j/coef_objetivo[1]), \"--\" ,label = c_txt ) \n",
    "    res = linprog(coef_objetivo, matriz_coef, matriz_r, method=\"revised simplex\")\n",
    "    plt.plot(res.x[0],res.x[1],\"ro\", label=\"Solucion\")\n",
    "    plt.xlim(0,limites[0])\n",
    "    plt.ylim(0,limites[1])\n",
    "    plt.legend()\n",
    "    plt.grid()\n",
    "    plt.show()"
   ]
  },
  {
   "cell_type": "code",
   "execution_count": null,
   "metadata": {},
   "outputs": [],
   "source": [
    "np.dot(res.x.T , -c)"
   ]
  },
  {
   "cell_type": "code",
   "execution_count": null,
   "metadata": {},
   "outputs": [],
   "source": [
    "grafico(c,A,b,[6,6],[-21,0,5])"
   ]
  }
 ],
 "metadata": {
  "kernelspec": {
   "display_name": "Python 3",
   "language": "python",
   "name": "python3"
  },
  "language_info": {
   "codemirror_mode": {
    "name": "ipython",
    "version": 3
   },
   "file_extension": ".py",
   "mimetype": "text/x-python",
   "name": "python",
   "nbconvert_exporter": "python",
   "pygments_lexer": "ipython3",
   "version": "3.12.0"
  }
 },
 "nbformat": 4,
 "nbformat_minor": 2
}
